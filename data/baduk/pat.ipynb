import os
import sgfmill
from sgfmill import sgf
from sgfmill import boards

# Base de datos de patrones
pattern_database = {}

def parse_sgf_file(file_path):
    """Parse an SGF file and return the game collection."""
    try:
        with open(file_path, "rb") as f:
            sgf_src = f.read()
        collection = sgf.Sgf_game.from_bytes(sgf_src)
        return collection
    except Exception as e:
        print(f"Error reading SGF file: {e}")
        return None

def play_move_on_board(board, color, move):
    """Play a move on the board."""
    x, y = move
    board.play(x, y, color)

def obtain_5_by_5_region_centered_by(board, move):
    """Obtain a 5x5 region centered by the given move."""
    x, y = move
    region = [[board.get(x+i, y+j) for j in range(-2, 3)] for i in range(-2, 3)]
    return region

def rotate_90(region):
    """Rotate the region 90 degrees clockwise."""
    return [list(row) for row in zip(*region[::-1])]

def flip_horizontal(region):
    """Flip the region horizontally."""
    return [row[::-1] for row in region]

def flip_vertical(region):
    """Flip the region vertically."""
    return region[::-1]

def get_all_transformations(region):
    """Get all transformations of the region (rotations and flips)."""
    transformations = set()
    current_region = region
    
    for _ in range(4):
        transformations.add(tuple(map(tuple, current_region)))
        transformations.add(tuple(map(tuple, flip_horizontal(current_region))))
        transformations.add(tuple(map(tuple, flip_vertical(current_region))))
        current_region = rotate_90(current_region)
    
    return transformations

def rotate_and_flip_to_canonical(region):
    """Get the canonical form of the region by considering all transformations."""
    transformations = get_all_transformations(region)
    canonical_form = min(transformations)
    return canonical_form

def process_game_records(game_record_collection):
    """Process game records and update the pattern database."""
    for game in game_record_collection:
        board = boards.Board(19)
        moves = game.get_main_sequence()
        
        for node in moves:
            color, move = node.get_move()
            if move is None:
                continue
            x, y = move
            play_move_on_board(board, color, (x, y))
            region = obtain_5_by_5_region_centered_by(board, (x, y))
            region = rotate_and_flip_to_canonical(region)

            region_tuple = tuple(map(tuple, region))  # Convertir región a tupla para usarla como clave

            if region_tuple not in pattern_database:
                pattern_database[region_tuple] = 0
            pattern_database[region_tuple] += 1  # Update the pattern count

def process_sgf_folder(folder_path):
    """Process all SGF files in the specified folder."""
    for filename in os.listdir(folder_path):
        if filename.endswith(".sgf"):
            file_path = os.path.join(folder_path, filename)
            game_collection = parse_sgf_file(file_path)
            if game_collection:
                process_game_records(game_collection)

# Example usage
folder_path = "path/to/your/sgf/folder"
process_sgf_folder(folder_path)
